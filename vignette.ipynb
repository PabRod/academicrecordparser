{
 "cells": [
  {
   "cell_type": "markdown",
   "metadata": {},
   "source": [
    "## Get and clean the data"
   ]
  },
  {
   "cell_type": "code",
   "execution_count": 57,
   "metadata": {},
   "outputs": [],
   "source": [
    "from readgsheets.io import *\n",
    "from readgsheets.filters import *"
   ]
  },
  {
   "cell_type": "code",
   "execution_count": 58,
   "metadata": {},
   "outputs": [],
   "source": [
    "data = drop_clutter(enrich(parse()))"
   ]
  },
  {
   "cell_type": "code",
   "execution_count": 59,
   "metadata": {},
   "outputs": [],
   "source": [
    "papers = papers(data)\n",
    "num_publications = papers.shape[0]"
   ]
  },
  {
   "cell_type": "code",
   "execution_count": 60,
   "metadata": {},
   "outputs": [],
   "source": [
    "books = books(data)\n",
    "num_books = books.shape[0]\n",
    "books_table = as_table(books)"
   ]
  },
  {
   "cell_type": "code",
   "execution_count": 61,
   "metadata": {},
   "outputs": [],
   "source": [
    "thesis_table = as_table(thesis(data))"
   ]
  },
  {
   "cell_type": "code",
   "execution_count": 62,
   "metadata": {},
   "outputs": [
    {
     "name": "stdout",
     "output_type": "stream",
     "text": [
      "| Date       | Name                                                                                                                                                                                                                                       | Author                                                                                                                                 | Publisher                        |\n",
      "|------------|--------------------------------------------------------------------------------------------------------------------------------------------------------------------------------------------------------------------------------------------|----------------------------------------------------------------------------------------------------------------------------------------|----------------------------------|\n",
      "| 18/10/2023 | [Quantum Radio Astronomy: Quantum Linear Solvers for Redundant Baseline Calibration](https://doi.org/10.1016/j.ascom.2024.100803)                                                                                                          | Chris Broekema, Pablo Rodríguez, et al.                                                                                                | Astronomy and Computing          |\n",
      "| 24/3/2023  | [byteparsing: a functional parser combinator for mixed ASCII/binary data](https://doi.org/10.21105/joss.05293)                                                                                                                             | Johan Hidding, Pablo Rodríguez                                                                                                         | Journal of Open Source Software  |\n",
      "| 11/2/2023  | [Effects of the antidepressant fluoxetine on the swimming behaviour of the amphipod Gammarus pulex: Comparison of short-term and long-term toxicity in the laboratory and the semi-field](https://doi.org/10.1016/j.scitotenv.2023.162173) | Lara M. Schuijt, Oluwafemi Olusoiji, Asmita Dubey, Pablo Rodríguez-Sánchez, Rima Osman, Paul J. van den Brink, Sanne J.P. van den Berg | Science of the Total Environment |\n",
      "| 11/2/2023  | [Among-individual variation in the swimming behaviour of the amphipod Gammarus pulex under dark and light conditions](https://doi.org/10.1016/j.scitotenv.2023.162177)                                                                     | Sanne van den Berg, Pablo Rodríguez-Sánchez, Jiayu Zhao, Oluwafemi Olusoiji, Edwin T.H.M. Peeters, Lara M. Schuijt                     | Science of the Total Environment |\n",
      "| 14/3/2022  | [Evaluating recovery metrics derived from optical time series over tropical forest ecosystems](https://doi.org/10.1016/j.rse.2022.112991)                                                                                                  | Wanda De Keersmaecker, Pablo Rodríguez-Sánchez, Milutin Milencović, Martin Herold, Johannes Reiche, Jan Verbesselt                     | Remote Sensing of Environment    |\n",
      "| 17/6/2020  | [Neutral competition boosts cycles and chaos in simulated food webs](https://royalsocietypublishing.org/doi/10.1098/rsos.191532)                                                                                                           | Pablo Rodríguez-Sánchez, Egbert H. van Nes, Marten Scheffer                                                                            | RSOS                             |\n",
      "| 10/4/2020  | [Climbing Escher’s stairs: A way to approximate stability landscapes in multidimensional systems](https://journals.plos.org/ploscompbiol/article?id=10.1371/journal.pcbi.1007788)                                                          | Pablo Rodríguez-Sánchez, Egbert H. van Nes, Marten Scheffer                                                                            | Plos Computational Biology       |\n",
      "| 27/03/2020 | [Early warning signals for desynchronization in periodically forced systems](https://arxiv.org/abs/2003.11595)                                                                                                                             | Pablo Rodríguez-Sánchez, Egbert H. van Nes, Marten Scheffer                                                                            | arXiv                            |\n",
      "| 22/04/2019 | [Horizontal and vertical diversity jointly shape food web stability against small and large perturbations](https://onlinelibrary.wiley.com/doi/abs/10.1111/ele.13282)                                                                      | Qinghua Zhao et al.                                                                                                                    | Ecology Letters                  |\n"
     ]
    }
   ],
   "source": [
    "publications_table = as_table(papers)\n",
    "\n",
    "print(publications_table)"
   ]
  },
  {
   "cell_type": "markdown",
   "metadata": {},
   "source": [
    "## Generate content"
   ]
  },
  {
   "cell_type": "code",
   "execution_count": 63,
   "metadata": {},
   "outputs": [],
   "source": [
    "from jinja2 import Environment, FileSystemLoader\n",
    "\n",
    "environment = Environment(loader=FileSystemLoader(\"templates/\"))\n",
    "template = environment.get_template(\"publications.md\")\n",
    "\n",
    "lang = \"en\"\n",
    "content = template.render(publications_table=publications_table,\n",
    "                          num_publications = num_publications,\n",
    "                          books_table = books_table,\n",
    "                          thesis_table = thesis_table,\n",
    "                          lang = lang)"
   ]
  },
  {
   "cell_type": "markdown",
   "metadata": {},
   "source": [
    "## Save as file"
   ]
  },
  {
   "cell_type": "code",
   "execution_count": 64,
   "metadata": {},
   "outputs": [],
   "source": [
    "filename = f\"/home/pablo/Desktop/testground/content/pages/publications-test-{lang}.md\"\n",
    "with open(filename, mode = \"w\") as f:\n",
    "    f.write(content)"
   ]
  }
 ],
 "metadata": {
  "kernelspec": {
   "display_name": "readgsheets",
   "language": "python",
   "name": "python3"
  },
  "language_info": {
   "codemirror_mode": {
    "name": "ipython",
    "version": 3
   },
   "file_extension": ".py",
   "mimetype": "text/x-python",
   "name": "python",
   "nbconvert_exporter": "python",
   "pygments_lexer": "ipython3",
   "version": "3.12.5"
  }
 },
 "nbformat": 4,
 "nbformat_minor": 2
}
