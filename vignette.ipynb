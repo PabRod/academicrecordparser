{
 "cells": [
  {
   "cell_type": "markdown",
   "metadata": {},
   "source": [
    "## Get and clean the data"
   ]
  },
  {
   "cell_type": "code",
   "execution_count": 15,
   "metadata": {},
   "outputs": [],
   "source": [
    "from readgsheets.io import *\n",
    "from readgsheets.filters import *"
   ]
  },
  {
   "cell_type": "code",
   "execution_count": 16,
   "metadata": {},
   "outputs": [],
   "source": [
    "data = get_data()"
   ]
  },
  {
   "cell_type": "code",
   "execution_count": 17,
   "metadata": {},
   "outputs": [],
   "source": [
    "papers = papers(data)\n",
    "num_publications = papers.shape[0]"
   ]
  },
  {
   "cell_type": "code",
   "execution_count": 18,
   "metadata": {},
   "outputs": [],
   "source": [
    "books = books(data)\n",
    "num_books = books.shape[0]\n",
    "books_table = as_table(books)"
   ]
  },
  {
   "cell_type": "code",
   "execution_count": 19,
   "metadata": {},
   "outputs": [],
   "source": [
    "thesis_table = as_table(thesis(data))"
   ]
  },
  {
   "cell_type": "code",
   "execution_count": 20,
   "metadata": {},
   "outputs": [],
   "source": [
    "publications_table = as_table(papers)\n",
    "\n",
    "template_args = {\"publications_table\" : publications_table, \n",
    "                 \"num_publications\" : num_publications,\n",
    "                 \"books_table\" : books_table,\n",
    "                 \"thesis_table\" : thesis_table}"
   ]
  },
  {
   "cell_type": "markdown",
   "metadata": {},
   "source": [
    "## Generate content"
   ]
  },
  {
   "cell_type": "code",
   "execution_count": 21,
   "metadata": {},
   "outputs": [],
   "source": [
    "slugs = [\"publications\"]\n",
    "langs = [\"en\", \"es\", \"nl\"]\n",
    "output_dir = \"/home/pablo/Desktop/testground/content/pages/\"\n",
    "\n",
    "environment = Environment(loader=FileSystemLoader(\"templates/\"))\n",
    "\n",
    "for slug in slugs:\n",
    "    for lang in langs:\n",
    "        use_template(slug, lang, output_dir, environment, **template_args)"
   ]
  }
 ],
 "metadata": {
  "kernelspec": {
   "display_name": "readgsheets",
   "language": "python",
   "name": "python3"
  },
  "language_info": {
   "codemirror_mode": {
    "name": "ipython",
    "version": 3
   },
   "file_extension": ".py",
   "mimetype": "text/x-python",
   "name": "python",
   "nbconvert_exporter": "python",
   "pygments_lexer": "ipython3",
   "version": "3.12.5"
  }
 },
 "nbformat": 4,
 "nbformat_minor": 2
}
