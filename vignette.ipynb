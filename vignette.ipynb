{
 "cells": [
  {
   "cell_type": "markdown",
   "metadata": {},
   "source": [
    "## Get and clean the data"
   ]
  },
  {
   "cell_type": "code",
   "execution_count": 1,
   "metadata": {},
   "outputs": [],
   "source": [
    "from academicrecordparser.io import *\n",
    "from academicrecordparser.filters import *\n",
    "from academicrecordparser.auxs import *"
   ]
  },
  {
   "cell_type": "code",
   "execution_count": 2,
   "metadata": {},
   "outputs": [],
   "source": [
    "data = get_data()"
   ]
  },
  {
   "cell_type": "code",
   "execution_count": 3,
   "metadata": {},
   "outputs": [],
   "source": [
    "template_args = as_template_args(data)"
   ]
  },
  {
   "cell_type": "markdown",
   "metadata": {},
   "source": [
    "## Generate content"
   ]
  },
  {
   "cell_type": "code",
   "execution_count": 4,
   "metadata": {},
   "outputs": [],
   "source": [
    "slugs = [\"publications\", \"teaching\", \"education\", \"sci-comm\"]\n",
    "langs = [\"en\", \"es\", \"nl\"]\n",
    "output_dir = \"/home/pablo/Desktop/testground/content/pages/\"\n",
    "\n",
    "environment = Environment(loader=FileSystemLoader(\"templates/\"))\n",
    "\n",
    "for slug in slugs:\n",
    "    for lang in langs:\n",
    "        use_template(slug, lang, output_dir, environment, **template_args)"
   ]
  }
 ],
 "metadata": {
  "kernelspec": {
   "display_name": "academicrecordparser",
   "language": "python",
   "name": "python3"
  },
  "language_info": {
   "codemirror_mode": {
    "name": "ipython",
    "version": 3
   },
   "file_extension": ".py",
   "mimetype": "text/x-python",
   "name": "python",
   "nbconvert_exporter": "python",
   "pygments_lexer": "ipython3",
   "version": "3.10.14"
  }
 },
 "nbformat": 4,
 "nbformat_minor": 2
}
