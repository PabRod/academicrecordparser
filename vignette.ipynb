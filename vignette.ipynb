{
 "cells": [
  {
   "cell_type": "markdown",
   "metadata": {},
   "source": [
    "## Get and clean the data"
   ]
  },
  {
   "cell_type": "code",
   "execution_count": 1,
   "metadata": {},
   "outputs": [],
   "source": [
    "from readgsheets.io import *\n",
    "from readgsheets.filters import *"
   ]
  },
  {
   "cell_type": "code",
   "execution_count": 2,
   "metadata": {},
   "outputs": [],
   "source": [
    "data = get_data()"
   ]
  },
  {
   "cell_type": "code",
   "execution_count": 3,
   "metadata": {},
   "outputs": [],
   "source": [
    "papers = papers(data)\n",
    "num_publications = papers.shape[0]"
   ]
  },
  {
   "cell_type": "code",
   "execution_count": 4,
   "metadata": {},
   "outputs": [],
   "source": [
    "books = books(data)\n",
    "num_books = books.shape[0]\n",
    "books_table = as_table(books)"
   ]
  },
  {
   "cell_type": "code",
   "execution_count": 5,
   "metadata": {},
   "outputs": [],
   "source": [
    "thesis_table = as_table(thesis(data))"
   ]
  },
  {
   "cell_type": "code",
   "execution_count": 6,
   "metadata": {},
   "outputs": [],
   "source": [
    "publications_table = as_table(papers)\n",
    "\n",
    "template_args = {\"publications_table\" : publications_table, \n",
    "                 \"num_publications\" : num_publications,\n",
    "                 \"books_table\" : books_table,\n",
    "                 \"thesis_table\" : thesis_table}"
   ]
  },
  {
   "cell_type": "markdown",
   "metadata": {},
   "source": [
    "## Generate content"
   ]
  },
  {
   "cell_type": "code",
   "execution_count": 9,
   "metadata": {},
   "outputs": [],
   "source": [
    "from jinja2 import Environment, FileSystemLoader\n",
    "def use_template(slug, lang, output_dir, environment=Environment(loader=FileSystemLoader(\"templates/\")), **kwargs):\n",
    "    ## Load the template\n",
    "    template = environment.get_template(f\"{slug}.jinja\")\n",
    "\n",
    "    ## Create the content\n",
    "    content = template.render(lang = lang, **kwargs) # Pass all args but lang as dictionary\n",
    "\n",
    "    ## Save it\n",
    "    filename = f\"{output_dir}/{slug}-test-{lang}.md\" # Use path\n",
    "    with open(filename, mode = \"w\") as f:\n",
    "        f.write(content)"
   ]
  },
  {
   "cell_type": "code",
   "execution_count": 10,
   "metadata": {},
   "outputs": [],
   "source": [
    "slug = \"publications\"\n",
    "langs = [\"en\", \"es\", \"nl\"]\n",
    "output_dir = \"/home/pablo/Desktop/testground/content/pages/\"\n",
    "\n",
    "environment = Environment(loader=FileSystemLoader(\"templates/\"))\n",
    "\n",
    "for lang in langs:\n",
    "    use_template(slug, lang, output_dir, environment, **template_args)"
   ]
  }
 ],
 "metadata": {
  "kernelspec": {
   "display_name": "readgsheets",
   "language": "python",
   "name": "python3"
  },
  "language_info": {
   "codemirror_mode": {
    "name": "ipython",
    "version": 3
   },
   "file_extension": ".py",
   "mimetype": "text/x-python",
   "name": "python",
   "nbconvert_exporter": "python",
   "pygments_lexer": "ipython3",
   "version": "3.12.5"
  }
 },
 "nbformat": 4,
 "nbformat_minor": 2
}
